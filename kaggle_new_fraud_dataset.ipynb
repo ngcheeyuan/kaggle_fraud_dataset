{
 "cells": [
  {
   "cell_type": "code",
   "execution_count": null,
   "id": "f9bc8132",
   "metadata": {},
   "outputs": [],
   "source": [
    "import pandas as pd"
   ]
  },
  {
   "cell_type": "code",
   "execution_count": null,
   "id": "967fe260",
   "metadata": {},
   "outputs": [],
   "source": [
    "df = pd.read_csv('Fraud.csv')"
   ]
  },
  {
   "cell_type": "code",
   "execution_count": null,
   "id": "e2b5e18c",
   "metadata": {},
   "outputs": [],
   "source": [
    "df.head(5)"
   ]
  },
  {
   "cell_type": "code",
   "execution_count": 4,
   "id": "1a4c94cd",
   "metadata": {},
   "outputs": [
    {
     "data": {
      "text/plain": [
       "6362620"
      ]
     },
     "execution_count": 4,
     "metadata": {},
     "output_type": "execute_result"
    }
   ],
   "source": [
    "len(df)"
   ]
  },
  {
   "cell_type": "code",
   "execution_count": 5,
   "id": "b9f6ac96",
   "metadata": {},
   "outputs": [],
   "source": [
    "df.columns = [x.lower() for x in df.columns]"
   ]
  },
  {
   "cell_type": "code",
   "execution_count": 6,
   "id": "c33ac0d2",
   "metadata": {},
   "outputs": [],
   "source": [
    "from sklearn.model_selection import train_test_split"
   ]
  },
  {
   "cell_type": "code",
   "execution_count": 7,
   "id": "645ab6a2",
   "metadata": {},
   "outputs": [],
   "source": [
    "X = df.drop(columns = ['isfraud'] , axis = 'columns')\n",
    "y = df['isfraud']"
   ]
  },
  {
   "cell_type": "code",
   "execution_count": 8,
   "id": "54f371b1",
   "metadata": {},
   "outputs": [],
   "source": [
    "X_train, X_test,y_train,y_test = train_test_split(X ,y , stratify = y , test_size = 0.4)"
   ]
  },
  {
   "cell_type": "code",
   "execution_count": 9,
   "id": "c406cc63",
   "metadata": {},
   "outputs": [],
   "source": [
    "X_val, X_test,y_val,y_test = train_test_split(X_test ,y_test , stratify = y_test , test_size = 0.5)"
   ]
  },
  {
   "cell_type": "code",
   "execution_count": 10,
   "id": "66df4e5c",
   "metadata": {},
   "outputs": [
    {
     "data": {
      "text/plain": [
       "(0.001290872837499856, 0.0012903489443028186, 0.0012911347840983745)"
      ]
     },
     "execution_count": 10,
     "metadata": {},
     "output_type": "execute_result"
    }
   ],
   "source": [
    "y_train.mean() , y_val.mean() , y_test.mean()"
   ]
  },
  {
   "cell_type": "code",
   "execution_count": 11,
   "id": "f09fdfb7",
   "metadata": {},
   "outputs": [
    {
     "data": {
      "text/plain": [
       "(0    3812644\n",
       " 1       4928\n",
       " Name: isfraud, dtype: int64,\n",
       " 0    1270882\n",
       " 1       1642\n",
       " Name: isfraud, dtype: int64,\n",
       " 0    1270881\n",
       " 1       1643\n",
       " Name: isfraud, dtype: int64)"
      ]
     },
     "execution_count": 11,
     "metadata": {},
     "output_type": "execute_result"
    }
   ],
   "source": [
    "y_train.value_counts() , y_val.value_counts() , y_test.value_counts()"
   ]
  },
  {
   "cell_type": "markdown",
   "id": "3c21e083",
   "metadata": {},
   "source": [
    "There is severe data imbalance where 0.1% of the transactions are fraudulent"
   ]
  },
  {
   "cell_type": "markdown",
   "id": "2969ac2c",
   "metadata": {},
   "source": [
    "### EDA on train data"
   ]
  },
  {
   "cell_type": "raw",
   "id": "01fee934",
   "metadata": {},
   "source": [
    "df.head(5)"
   ]
  },
  {
   "cell_type": "code",
   "execution_count": 63,
   "id": "bc30b629",
   "metadata": {},
   "outputs": [],
   "source": [
    "df_train = X_train\n",
    "df_train['isfraud'] = y_train"
   ]
  },
  {
   "cell_type": "code",
   "execution_count": 182,
   "id": "63884ed1",
   "metadata": {},
   "outputs": [],
   "source": [
    "df_val = X_val\n",
    "df_val['isfraud'] = y_val\n",
    "\n",
    "df_test = X_test\n",
    "df_test['isfraud'] = y_test"
   ]
  },
  {
   "cell_type": "code",
   "execution_count": 65,
   "id": "857839d1",
   "metadata": {},
   "outputs": [
    {
     "name": "stdout",
     "output_type": "stream",
     "text": [
      "------------------------------\n",
      "column : type\n",
      "------------------------------\n",
      "CASH_OUT    1342070\n",
      "PAYMENT     1290839\n",
      "CASH_IN      839742\n",
      "TRANSFER     320080\n",
      "DEBIT         24841\n",
      "Name: type, dtype: int64\n",
      "------------------------------\n",
      "column : nameorig\n",
      "------------------------------\n",
      "C1832548028    3\n",
      "C400299098     3\n",
      "C1462946854    3\n",
      "C1739646194    2\n",
      "C47806046      2\n",
      "              ..\n",
      "C2064357198    1\n",
      "C945253856     1\n",
      "C1383109984    1\n",
      "C2021449413    1\n",
      "C1230174815    1\n",
      "Name: nameorig, Length: 3814250, dtype: int64\n",
      "------------------------------\n",
      "column : namedest\n",
      "------------------------------\n",
      "C1590550415    69\n",
      "C1286084959    66\n",
      "C998351292     62\n",
      "C1262822392    62\n",
      "C1899073220    60\n",
      "               ..\n",
      "C1264364533     1\n",
      "M1196741474     1\n",
      "M980016277      1\n",
      "M840165478      1\n",
      "M1917855397     1\n",
      "Name: namedest, Length: 1799458, dtype: int64\n"
     ]
    }
   ],
   "source": [
    "for column in df_train.columns:\n",
    "    if df_train[column].dtype == object:\n",
    "        print('------------------------------')\n",
    "        print(f'column : {column}')\n",
    "        print('------------------------------')\n",
    "        print(df_train[column].value_counts())"
   ]
  },
  {
   "cell_type": "code",
   "execution_count": 68,
   "id": "358ef449",
   "metadata": {},
   "outputs": [
    {
     "name": "stderr",
     "output_type": "stream",
     "text": [
      "C:\\Users\\YuanAnaconda\\AppData\\Local\\Temp\\ipykernel_9620\\4030031459.py:3: UserWarning: Boolean Series key will be reindexed to match DataFrame index.\n",
      "  test = df_train[mask]['namedest'].value_counts().reset_index()\n"
     ]
    }
   ],
   "source": [
    "mask1 = df_train['isfraud'] == 1\n",
    "\n",
    "test = df_train[mask]['namedest'].value_counts().reset_index()"
   ]
  },
  {
   "cell_type": "code",
   "execution_count": 69,
   "id": "0854e0f5",
   "metadata": {},
   "outputs": [
    {
     "data": {
      "text/plain": [
       "24"
      ]
     },
     "execution_count": 69,
     "metadata": {},
     "output_type": "execute_result"
    }
   ],
   "source": [
    "mask = test['namedest'] > 1\n",
    "test[mask]['namedest'].sum()"
   ]
  },
  {
   "cell_type": "markdown",
   "id": "91b7dc45",
   "metadata": {},
   "source": [
    "1. <1% of the fraudulent transactions were sent to the same account.\n",
    "2. Due to it's high-cardinality, we shall remove it from our model as it does not help identify transactions that are fraudulent"
   ]
  },
  {
   "cell_type": "code",
   "execution_count": 70,
   "id": "ce16caa4",
   "metadata": {},
   "outputs": [
    {
     "data": {
      "text/plain": [
       "0"
      ]
     },
     "execution_count": 70,
     "metadata": {},
     "output_type": "execute_result"
    }
   ],
   "source": [
    "mask = df_train['isfraud'] == 1\n",
    "test = df_train[mask]['nameorig'].value_counts().reset_index()\n",
    "mask = test['nameorig'] > 1\n",
    "test[mask]['nameorig'].sum()"
   ]
  },
  {
   "cell_type": "markdown",
   "id": "f621ffed",
   "metadata": {},
   "source": [
    "1. None of the transactions that are fraudulent occured from the same account.\n",
    "2. Thus we shall exclude this column from our model as well"
   ]
  },
  {
   "cell_type": "code",
   "execution_count": 71,
   "id": "6b4f382a",
   "metadata": {},
   "outputs": [
    {
     "data": {
      "text/plain": [
       "CASH_OUT    2499\n",
       "TRANSFER    2429\n",
       "Name: type, dtype: int64"
      ]
     },
     "execution_count": 71,
     "metadata": {},
     "output_type": "execute_result"
    }
   ],
   "source": [
    "mask = df_train['isfraud'] == 1\n",
    "test = df_train[mask]['type'].value_counts()\n",
    "test"
   ]
  },
  {
   "cell_type": "code",
   "execution_count": 73,
   "id": "13e4810b",
   "metadata": {},
   "outputs": [
    {
     "name": "stdout",
     "output_type": "stream",
     "text": [
      "----------------------------------------\n",
      "transaction proportion in percentages\n",
      "----------------------------------------\n",
      "CASH_OUT    0.351551\n",
      "PAYMENT     0.338131\n",
      "CASH_IN     0.219968\n",
      "TRANSFER    0.083844\n",
      "DEBIT       0.006507\n",
      "Name: type, dtype: float64\n",
      "----------------------------------------\n",
      "transaction counts\n",
      "----------------------------------------\n",
      "CASH_OUT    1342070\n",
      "PAYMENT     1290839\n",
      "CASH_IN      839742\n",
      "TRANSFER     320080\n",
      "DEBIT         24841\n",
      "Name: type, dtype: int64\n"
     ]
    }
   ],
   "source": [
    "print('----------------------------------------')\n",
    "print('transaction proportion in percentages')\n",
    "print('----------------------------------------')\n",
    "print(df_train['type'].value_counts(normalize = True))\n",
    "print('----------------------------------------')\n",
    "print('transaction counts')\n",
    "print('----------------------------------------')\n",
    "print(df_train['type'].value_counts())"
   ]
  },
  {
   "cell_type": "markdown",
   "id": "e1f7a955",
   "metadata": {},
   "source": [
    "1. Even though only 8% of all transactions are \"transfer\" about 1/2 of all fraudulent activities are 'transfer' type\n",
    "2. The other half of all fraudulent transactions are \"cashout\" type"
   ]
  },
  {
   "cell_type": "markdown",
   "id": "e98576c3",
   "metadata": {},
   "source": [
    "### Base line model"
   ]
  },
  {
   "cell_type": "code",
   "execution_count": 12,
   "id": "541c6769",
   "metadata": {},
   "outputs": [],
   "source": [
    "from sklearn.linear_model import LogisticRegression\n",
    "from sklearn.pipeline import make_pipeline\n",
    "from sklearn.preprocessing import OneHotEncoder\n",
    "from sklearn.compose import make_column_transformer\n",
    "from sklearn.compose import make_column_selector"
   ]
  },
  {
   "cell_type": "code",
   "execution_count": 165,
   "id": "fedd203c",
   "metadata": {},
   "outputs": [],
   "source": [
    "X_train.drop(columns = ['namedest','nameorig'] , axis='columns' , inplace = True)\n",
    "X_val.drop(columns = ['namedest','nameorig'] , axis='columns' , inplace = True)\n",
    "X_test.drop(columns = ['namedest','nameorig'] , axis='columns' , inplace = True)"
   ]
  },
  {
   "cell_type": "code",
   "execution_count": 77,
   "id": "850a61d9",
   "metadata": {},
   "outputs": [],
   "source": [
    "ct = make_column_transformer((OneHotEncoder(),make_column_selector(dtype_include = object)))"
   ]
  },
  {
   "cell_type": "code",
   "execution_count": 78,
   "id": "db70490e",
   "metadata": {},
   "outputs": [],
   "source": [
    "clf = LogisticRegression(class_weight = 'balanced' , solver = 'saga' , tol = 1e-3 , max_iter = 1000)\n",
    "pipeline = make_pipeline(ct,clf)"
   ]
  },
  {
   "cell_type": "code",
   "execution_count": 79,
   "id": "7f356674",
   "metadata": {},
   "outputs": [
    {
     "name": "stderr",
     "output_type": "stream",
     "text": [
      "C:\\Users\\YuanAnaconda\\anaconda3\\lib\\site-packages\\sklearn\\linear_model\\_sag.py:352: ConvergenceWarning: The max_iter was reached which means the coef_ did not converge\n",
      "  warnings.warn(\n"
     ]
    },
    {
     "data": {
      "text/plain": [
       "Pipeline(steps=[('columntransformer',\n",
       "                 ColumnTransformer(transformers=[('onehotencoder',\n",
       "                                                  OneHotEncoder(),\n",
       "                                                  <sklearn.compose._column_transformer.make_column_selector object at 0x000001DA7857E910>)])),\n",
       "                ('logisticregression',\n",
       "                 LogisticRegression(class_weight='balanced', max_iter=1000,\n",
       "                                    solver='saga', tol=0.001))])"
      ]
     },
     "execution_count": 79,
     "metadata": {},
     "output_type": "execute_result"
    }
   ],
   "source": [
    "pipeline.fit(X_train,y_train)"
   ]
  },
  {
   "cell_type": "code",
   "execution_count": 82,
   "id": "6b366bf6",
   "metadata": {},
   "outputs": [
    {
     "data": {
      "text/plain": [
       "0.9161377964842575"
      ]
     },
     "execution_count": 82,
     "metadata": {},
     "output_type": "execute_result"
    }
   ],
   "source": [
    "pipeline.score(X_train,y_train)"
   ]
  },
  {
   "cell_type": "code",
   "execution_count": 87,
   "id": "e95c9ca7",
   "metadata": {},
   "outputs": [],
   "source": [
    "from sklearn.metrics import confusion_matrix"
   ]
  },
  {
   "cell_type": "code",
   "execution_count": 168,
   "id": "9037843e",
   "metadata": {},
   "outputs": [],
   "source": [
    "y_pred = pipeline.predict(X_train)"
   ]
  },
  {
   "cell_type": "code",
   "execution_count": 99,
   "id": "91d34b52",
   "metadata": {},
   "outputs": [],
   "source": [
    "from sklearn.metrics import ConfusionMatrixDisplay"
   ]
  },
  {
   "cell_type": "code",
   "execution_count": 167,
   "id": "49ae2418",
   "metadata": {},
   "outputs": [
    {
     "data": {
      "text/plain": [
       "array([[3494993,  317651],\n",
       "       [   2499,    2429]], dtype=int64)"
      ]
     },
     "execution_count": 167,
     "metadata": {},
     "output_type": "execute_result"
    }
   ],
   "source": [
    "confusion_matrix(y_train, y_pred)"
   ]
  },
  {
   "cell_type": "code",
   "execution_count": 97,
   "id": "ab3dcacc",
   "metadata": {},
   "outputs": [],
   "source": [
    "y_val_pred = pipeline.predict(X_val)"
   ]
  },
  {
   "cell_type": "code",
   "execution_count": 98,
   "id": "577ce815",
   "metadata": {},
   "outputs": [
    {
     "data": {
      "text/plain": [
       "array([[1165313,  105569],\n",
       "       [    804,     838]], dtype=int64)"
      ]
     },
     "execution_count": 98,
     "metadata": {},
     "output_type": "execute_result"
    }
   ],
   "source": [
    "confusion_matrix(y_val, y_val_pred)"
   ]
  },
  {
   "cell_type": "code",
   "execution_count": 105,
   "id": "2f61d42d",
   "metadata": {},
   "outputs": [],
   "source": [
    "import matplotlib.pyplot as plt"
   ]
  },
  {
   "cell_type": "code",
   "execution_count": 130,
   "id": "cdc718a1",
   "metadata": {},
   "outputs": [
    {
     "data": {
      "text/plain": [
       "<sklearn.metrics._plot.confusion_matrix.ConfusionMatrixDisplay at 0x1da8904dee0>"
      ]
     },
     "execution_count": 130,
     "metadata": {},
     "output_type": "execute_result"
    },
    {
     "data": {
      "image/png": "[encoded data removed]",
      "text/plain": [
       "<Figure size 864x648 with 4 Axes>"
      ]
     },
     "metadata": {
      "needs_background": "light"
     },
     "output_type": "display_data"
    }
   ],
   "source": [
    "fig,ax = plt.subplots(1,2,figsize=(12,9))\n",
    "ConfusionMatrixDisplay(confusion_matrix(y_train, y_pred)).plot(ax = ax[0])\n",
    "ConfusionMatrixDisplay(confusion_matrix(y_val, y_val_pred)).plot(ax = ax[1])"
   ]
  },
  {
   "cell_type": "code",
   "execution_count": 132,
   "id": "035dcf61",
   "metadata": {},
   "outputs": [
    {
     "data": {
      "text/html": [
       "<div>\n",
       "<style scoped>\n",
       "    .dataframe tbody tr th:only-of-type {\n",
       "        vertical-align: middle;\n",
       "    }\n",
       "\n",
       "    .dataframe tbody tr th {\n",
       "        vertical-align: top;\n",
       "    }\n",
       "\n",
       "    .dataframe thead th {\n",
       "        text-align: right;\n",
       "    }\n",
       "</style>\n",
       "<table border=\"1\" class=\"dataframe\">\n",
       "  <thead>\n",
       "    <tr style=\"text-align: right;\">\n",
       "      <th></th>\n",
       "      <th>step</th>\n",
       "      <th>type</th>\n",
       "      <th>amount</th>\n",
       "      <th>oldbalanceorg</th>\n",
       "      <th>newbalanceorig</th>\n",
       "      <th>oldbalancedest</th>\n",
       "      <th>newbalancedest</th>\n",
       "      <th>isflaggedfraud</th>\n",
       "      <th>is_fraud</th>\n",
       "      <th>isfraud</th>\n",
       "    </tr>\n",
       "  </thead>\n",
       "  <tbody>\n",
       "    <tr>\n",
       "      <th>1012029</th>\n",
       "      <td>46</td>\n",
       "      <td>CASH_IN</td>\n",
       "      <td>301107.69</td>\n",
       "      <td>6354315.46</td>\n",
       "      <td>6655423.15</td>\n",
       "      <td>1446616.73</td>\n",
       "      <td>1145509.04</td>\n",
       "      <td>0</td>\n",
       "      <td>0</td>\n",
       "      <td>0</td>\n",
       "    </tr>\n",
       "    <tr>\n",
       "      <th>4146185</th>\n",
       "      <td>303</td>\n",
       "      <td>PAYMENT</td>\n",
       "      <td>45843.69</td>\n",
       "      <td>5534.00</td>\n",
       "      <td>0.00</td>\n",
       "      <td>0.00</td>\n",
       "      <td>0.00</td>\n",
       "      <td>0</td>\n",
       "      <td>0</td>\n",
       "      <td>0</td>\n",
       "    </tr>\n",
       "    <tr>\n",
       "      <th>3818653</th>\n",
       "      <td>281</td>\n",
       "      <td>PAYMENT</td>\n",
       "      <td>3274.46</td>\n",
       "      <td>33420.00</td>\n",
       "      <td>30145.54</td>\n",
       "      <td>0.00</td>\n",
       "      <td>0.00</td>\n",
       "      <td>0</td>\n",
       "      <td>0</td>\n",
       "      <td>0</td>\n",
       "    </tr>\n",
       "    <tr>\n",
       "      <th>766508</th>\n",
       "      <td>39</td>\n",
       "      <td>CASH_IN</td>\n",
       "      <td>223213.65</td>\n",
       "      <td>1046.00</td>\n",
       "      <td>224259.65</td>\n",
       "      <td>697023.59</td>\n",
       "      <td>473809.95</td>\n",
       "      <td>0</td>\n",
       "      <td>0</td>\n",
       "      <td>0</td>\n",
       "    </tr>\n",
       "    <tr>\n",
       "      <th>6054424</th>\n",
       "      <td>495</td>\n",
       "      <td>CASH_IN</td>\n",
       "      <td>87866.87</td>\n",
       "      <td>7755812.24</td>\n",
       "      <td>7843679.11</td>\n",
       "      <td>133608.05</td>\n",
       "      <td>45741.18</td>\n",
       "      <td>0</td>\n",
       "      <td>0</td>\n",
       "      <td>0</td>\n",
       "    </tr>\n",
       "  </tbody>\n",
       "</table>\n",
       "</div>"
      ],
      "text/plain": [
       "         step     type     amount  oldbalanceorg  newbalanceorig  \\\n",
       "1012029    46  CASH_IN  301107.69     6354315.46      6655423.15   \n",
       "4146185   303  PAYMENT   45843.69        5534.00            0.00   \n",
       "3818653   281  PAYMENT    3274.46       33420.00        30145.54   \n",
       "766508     39  CASH_IN  223213.65        1046.00       224259.65   \n",
       "6054424   495  CASH_IN   87866.87     7755812.24      7843679.11   \n",
       "\n",
       "         oldbalancedest  newbalancedest  isflaggedfraud  is_fraud  isfraud  \n",
       "1012029      1446616.73      1145509.04               0         0        0  \n",
       "4146185            0.00            0.00               0         0        0  \n",
       "3818653            0.00            0.00               0         0        0  \n",
       "766508        697023.59       473809.95               0         0        0  \n",
       "6054424       133608.05        45741.18               0         0        0  "
      ]
     },
     "execution_count": 132,
     "metadata": {},
     "output_type": "execute_result"
    }
   ],
   "source": [
    "df_train.head(5)"
   ]
  },
  {
   "cell_type": "code",
   "execution_count": 133,
   "id": "5d8f3c02",
   "metadata": {},
   "outputs": [
    {
     "data": {
      "text/html": [
       "<div>\n",
       "<style scoped>\n",
       "    .dataframe tbody tr th:only-of-type {\n",
       "        vertical-align: middle;\n",
       "    }\n",
       "\n",
       "    .dataframe tbody tr th {\n",
       "        vertical-align: top;\n",
       "    }\n",
       "\n",
       "    .dataframe thead th {\n",
       "        text-align: right;\n",
       "    }\n",
       "</style>\n",
       "<table border=\"1\" class=\"dataframe\">\n",
       "  <thead>\n",
       "    <tr style=\"text-align: right;\">\n",
       "      <th></th>\n",
       "      <th>step</th>\n",
       "      <th>type</th>\n",
       "      <th>amount</th>\n",
       "      <th>oldbalanceorg</th>\n",
       "      <th>newbalanceorig</th>\n",
       "      <th>oldbalancedest</th>\n",
       "      <th>newbalancedest</th>\n",
       "      <th>isflaggedfraud</th>\n",
       "      <th>is_fraud</th>\n",
       "      <th>isfraud</th>\n",
       "    </tr>\n",
       "  </thead>\n",
       "  <tbody>\n",
       "    <tr>\n",
       "      <th>3188081</th>\n",
       "      <td>240</td>\n",
       "      <td>TRANSFER</td>\n",
       "      <td>248962.83</td>\n",
       "      <td>248962.83</td>\n",
       "      <td>0.0</td>\n",
       "      <td>0.00</td>\n",
       "      <td>0.00</td>\n",
       "      <td>0</td>\n",
       "      <td>1</td>\n",
       "      <td>1</td>\n",
       "    </tr>\n",
       "    <tr>\n",
       "      <th>6170520</th>\n",
       "      <td>563</td>\n",
       "      <td>CASH_OUT</td>\n",
       "      <td>96989.06</td>\n",
       "      <td>96989.06</td>\n",
       "      <td>0.0</td>\n",
       "      <td>1112486.16</td>\n",
       "      <td>1209475.22</td>\n",
       "      <td>0</td>\n",
       "      <td>1</td>\n",
       "      <td>1</td>\n",
       "    </tr>\n",
       "    <tr>\n",
       "      <th>2116097</th>\n",
       "      <td>183</td>\n",
       "      <td>TRANSFER</td>\n",
       "      <td>4354175.33</td>\n",
       "      <td>4354175.33</td>\n",
       "      <td>0.0</td>\n",
       "      <td>0.00</td>\n",
       "      <td>0.00</td>\n",
       "      <td>0</td>\n",
       "      <td>1</td>\n",
       "      <td>1</td>\n",
       "    </tr>\n",
       "    <tr>\n",
       "      <th>4023010</th>\n",
       "      <td>299</td>\n",
       "      <td>CASH_OUT</td>\n",
       "      <td>1158358.08</td>\n",
       "      <td>1158358.08</td>\n",
       "      <td>0.0</td>\n",
       "      <td>0.00</td>\n",
       "      <td>1158358.08</td>\n",
       "      <td>0</td>\n",
       "      <td>1</td>\n",
       "      <td>1</td>\n",
       "    </tr>\n",
       "    <tr>\n",
       "      <th>6050772</th>\n",
       "      <td>493</td>\n",
       "      <td>TRANSFER</td>\n",
       "      <td>605108.36</td>\n",
       "      <td>605108.36</td>\n",
       "      <td>0.0</td>\n",
       "      <td>0.00</td>\n",
       "      <td>0.00</td>\n",
       "      <td>0</td>\n",
       "      <td>1</td>\n",
       "      <td>1</td>\n",
       "    </tr>\n",
       "    <tr>\n",
       "      <th>...</th>\n",
       "      <td>...</td>\n",
       "      <td>...</td>\n",
       "      <td>...</td>\n",
       "      <td>...</td>\n",
       "      <td>...</td>\n",
       "      <td>...</td>\n",
       "      <td>...</td>\n",
       "      <td>...</td>\n",
       "      <td>...</td>\n",
       "      <td>...</td>\n",
       "    </tr>\n",
       "    <tr>\n",
       "      <th>6027402</th>\n",
       "      <td>470</td>\n",
       "      <td>TRANSFER</td>\n",
       "      <td>120843.94</td>\n",
       "      <td>120843.94</td>\n",
       "      <td>0.0</td>\n",
       "      <td>0.00</td>\n",
       "      <td>0.00</td>\n",
       "      <td>0</td>\n",
       "      <td>1</td>\n",
       "      <td>1</td>\n",
       "    </tr>\n",
       "    <tr>\n",
       "      <th>5188051</th>\n",
       "      <td>367</td>\n",
       "      <td>CASH_OUT</td>\n",
       "      <td>48774.46</td>\n",
       "      <td>48774.46</td>\n",
       "      <td>0.0</td>\n",
       "      <td>0.00</td>\n",
       "      <td>48774.46</td>\n",
       "      <td>0</td>\n",
       "      <td>1</td>\n",
       "      <td>1</td>\n",
       "    </tr>\n",
       "    <tr>\n",
       "      <th>6272956</th>\n",
       "      <td>626</td>\n",
       "      <td>TRANSFER</td>\n",
       "      <td>55740.39</td>\n",
       "      <td>55740.39</td>\n",
       "      <td>0.0</td>\n",
       "      <td>0.00</td>\n",
       "      <td>0.00</td>\n",
       "      <td>0</td>\n",
       "      <td>1</td>\n",
       "      <td>1</td>\n",
       "    </tr>\n",
       "    <tr>\n",
       "      <th>6168677</th>\n",
       "      <td>557</td>\n",
       "      <td>TRANSFER</td>\n",
       "      <td>643052.88</td>\n",
       "      <td>643052.88</td>\n",
       "      <td>0.0</td>\n",
       "      <td>0.00</td>\n",
       "      <td>0.00</td>\n",
       "      <td>0</td>\n",
       "      <td>1</td>\n",
       "      <td>1</td>\n",
       "    </tr>\n",
       "    <tr>\n",
       "      <th>5462542</th>\n",
       "      <td>379</td>\n",
       "      <td>TRANSFER</td>\n",
       "      <td>17216.14</td>\n",
       "      <td>17216.14</td>\n",
       "      <td>0.0</td>\n",
       "      <td>0.00</td>\n",
       "      <td>0.00</td>\n",
       "      <td>0</td>\n",
       "      <td>1</td>\n",
       "      <td>1</td>\n",
       "    </tr>\n",
       "  </tbody>\n",
       "</table>\n",
       "<p>4928 rows × 10 columns</p>\n",
       "</div>"
      ],
      "text/plain": [
       "         step      type      amount  oldbalanceorg  newbalanceorig  \\\n",
       "3188081   240  TRANSFER   248962.83      248962.83             0.0   \n",
       "6170520   563  CASH_OUT    96989.06       96989.06             0.0   \n",
       "2116097   183  TRANSFER  4354175.33     4354175.33             0.0   \n",
       "4023010   299  CASH_OUT  1158358.08     1158358.08             0.0   \n",
       "6050772   493  TRANSFER   605108.36      605108.36             0.0   \n",
       "...       ...       ...         ...            ...             ...   \n",
       "6027402   470  TRANSFER   120843.94      120843.94             0.0   \n",
       "5188051   367  CASH_OUT    48774.46       48774.46             0.0   \n",
       "6272956   626  TRANSFER    55740.39       55740.39             0.0   \n",
       "6168677   557  TRANSFER   643052.88      643052.88             0.0   \n",
       "5462542   379  TRANSFER    17216.14       17216.14             0.0   \n",
       "\n",
       "         oldbalancedest  newbalancedest  isflaggedfraud  is_fraud  isfraud  \n",
       "3188081            0.00            0.00               0         1        1  \n",
       "6170520      1112486.16      1209475.22               0         1        1  \n",
       "2116097            0.00            0.00               0         1        1  \n",
       "4023010            0.00      1158358.08               0         1        1  \n",
       "6050772            0.00            0.00               0         1        1  \n",
       "...                 ...             ...             ...       ...      ...  \n",
       "6027402            0.00            0.00               0         1        1  \n",
       "5188051            0.00        48774.46               0         1        1  \n",
       "6272956            0.00            0.00               0         1        1  \n",
       "6168677            0.00            0.00               0         1        1  \n",
       "5462542            0.00            0.00               0         1        1  \n",
       "\n",
       "[4928 rows x 10 columns]"
      ]
     },
     "execution_count": 133,
     "metadata": {},
     "output_type": "execute_result"
    }
   ],
   "source": [
    "mask = df_train['is_fraud'] == 1\n",
    "df_train[mask]"
   ]
  },
  {
   "cell_type": "code",
   "execution_count": 138,
   "id": "fb4fb70e",
   "metadata": {},
   "outputs": [
    {
     "data": {
      "text/plain": [
       "0.6479301948051948"
      ]
     },
     "execution_count": 138,
     "metadata": {},
     "output_type": "execute_result"
    }
   ],
   "source": [
    "mask = df_train['oldbalancedest'] == 0\n",
    "mask1 = df_train['is_fraud'] == 1\n",
    "len(df_train[mask & mask1])/len(df_train[mask1])"
   ]
  },
  {
   "cell_type": "code",
   "execution_count": 179,
   "id": "2862578c",
   "metadata": {},
   "outputs": [],
   "source": [
    "def flag1_function(df):\n",
    "    x = df['oldbalancedest']\n",
    "    df['flag1'] = df['oldbalancedest'].apply(lambda x : 1 if x == 0 else 0)\n",
    "    return df"
   ]
  },
  {
   "cell_type": "code",
   "execution_count": 144,
   "id": "be8eea1b",
   "metadata": {},
   "outputs": [],
   "source": [
    "df_train['orgdelta'] = df_train['amount'] - df_train['oldbalanceorg']"
   ]
  },
  {
   "cell_type": "code",
   "execution_count": 154,
   "id": "eeacc3fe",
   "metadata": {},
   "outputs": [
    {
     "data": {
      "text/html": [
       "<div>\n",
       "<style scoped>\n",
       "    .dataframe tbody tr th:only-of-type {\n",
       "        vertical-align: middle;\n",
       "    }\n",
       "\n",
       "    .dataframe tbody tr th {\n",
       "        vertical-align: top;\n",
       "    }\n",
       "\n",
       "    .dataframe thead th {\n",
       "        text-align: right;\n",
       "    }\n",
       "</style>\n",
       "<table border=\"1\" class=\"dataframe\">\n",
       "  <thead>\n",
       "    <tr style=\"text-align: right;\">\n",
       "      <th></th>\n",
       "      <th>step</th>\n",
       "      <th>type</th>\n",
       "      <th>amount</th>\n",
       "      <th>oldbalanceorg</th>\n",
       "      <th>newbalanceorig</th>\n",
       "      <th>oldbalancedest</th>\n",
       "      <th>newbalancedest</th>\n",
       "      <th>isflaggedfraud</th>\n",
       "      <th>is_fraud</th>\n",
       "      <th>isfraud</th>\n",
       "      <th>flag1</th>\n",
       "      <th>orgdelta</th>\n",
       "    </tr>\n",
       "  </thead>\n",
       "  <tbody>\n",
       "    <tr>\n",
       "      <th>3188081</th>\n",
       "      <td>240</td>\n",
       "      <td>TRANSFER</td>\n",
       "      <td>248962.83</td>\n",
       "      <td>248962.83</td>\n",
       "      <td>0.0</td>\n",
       "      <td>0.00</td>\n",
       "      <td>0.00</td>\n",
       "      <td>0</td>\n",
       "      <td>1</td>\n",
       "      <td>1</td>\n",
       "      <td>1</td>\n",
       "      <td>0.0</td>\n",
       "    </tr>\n",
       "    <tr>\n",
       "      <th>6170520</th>\n",
       "      <td>563</td>\n",
       "      <td>CASH_OUT</td>\n",
       "      <td>96989.06</td>\n",
       "      <td>96989.06</td>\n",
       "      <td>0.0</td>\n",
       "      <td>1112486.16</td>\n",
       "      <td>1209475.22</td>\n",
       "      <td>0</td>\n",
       "      <td>1</td>\n",
       "      <td>1</td>\n",
       "      <td>0</td>\n",
       "      <td>0.0</td>\n",
       "    </tr>\n",
       "    <tr>\n",
       "      <th>2116097</th>\n",
       "      <td>183</td>\n",
       "      <td>TRANSFER</td>\n",
       "      <td>4354175.33</td>\n",
       "      <td>4354175.33</td>\n",
       "      <td>0.0</td>\n",
       "      <td>0.00</td>\n",
       "      <td>0.00</td>\n",
       "      <td>0</td>\n",
       "      <td>1</td>\n",
       "      <td>1</td>\n",
       "      <td>1</td>\n",
       "      <td>0.0</td>\n",
       "    </tr>\n",
       "    <tr>\n",
       "      <th>4023010</th>\n",
       "      <td>299</td>\n",
       "      <td>CASH_OUT</td>\n",
       "      <td>1158358.08</td>\n",
       "      <td>1158358.08</td>\n",
       "      <td>0.0</td>\n",
       "      <td>0.00</td>\n",
       "      <td>1158358.08</td>\n",
       "      <td>0</td>\n",
       "      <td>1</td>\n",
       "      <td>1</td>\n",
       "      <td>1</td>\n",
       "      <td>0.0</td>\n",
       "    </tr>\n",
       "    <tr>\n",
       "      <th>6050772</th>\n",
       "      <td>493</td>\n",
       "      <td>TRANSFER</td>\n",
       "      <td>605108.36</td>\n",
       "      <td>605108.36</td>\n",
       "      <td>0.0</td>\n",
       "      <td>0.00</td>\n",
       "      <td>0.00</td>\n",
       "      <td>0</td>\n",
       "      <td>1</td>\n",
       "      <td>1</td>\n",
       "      <td>1</td>\n",
       "      <td>0.0</td>\n",
       "    </tr>\n",
       "    <tr>\n",
       "      <th>...</th>\n",
       "      <td>...</td>\n",
       "      <td>...</td>\n",
       "      <td>...</td>\n",
       "      <td>...</td>\n",
       "      <td>...</td>\n",
       "      <td>...</td>\n",
       "      <td>...</td>\n",
       "      <td>...</td>\n",
       "      <td>...</td>\n",
       "      <td>...</td>\n",
       "      <td>...</td>\n",
       "      <td>...</td>\n",
       "    </tr>\n",
       "    <tr>\n",
       "      <th>6027402</th>\n",
       "      <td>470</td>\n",
       "      <td>TRANSFER</td>\n",
       "      <td>120843.94</td>\n",
       "      <td>120843.94</td>\n",
       "      <td>0.0</td>\n",
       "      <td>0.00</td>\n",
       "      <td>0.00</td>\n",
       "      <td>0</td>\n",
       "      <td>1</td>\n",
       "      <td>1</td>\n",
       "      <td>1</td>\n",
       "      <td>0.0</td>\n",
       "    </tr>\n",
       "    <tr>\n",
       "      <th>5188051</th>\n",
       "      <td>367</td>\n",
       "      <td>CASH_OUT</td>\n",
       "      <td>48774.46</td>\n",
       "      <td>48774.46</td>\n",
       "      <td>0.0</td>\n",
       "      <td>0.00</td>\n",
       "      <td>48774.46</td>\n",
       "      <td>0</td>\n",
       "      <td>1</td>\n",
       "      <td>1</td>\n",
       "      <td>1</td>\n",
       "      <td>0.0</td>\n",
       "    </tr>\n",
       "    <tr>\n",
       "      <th>6272956</th>\n",
       "      <td>626</td>\n",
       "      <td>TRANSFER</td>\n",
       "      <td>55740.39</td>\n",
       "      <td>55740.39</td>\n",
       "      <td>0.0</td>\n",
       "      <td>0.00</td>\n",
       "      <td>0.00</td>\n",
       "      <td>0</td>\n",
       "      <td>1</td>\n",
       "      <td>1</td>\n",
       "      <td>1</td>\n",
       "      <td>0.0</td>\n",
       "    </tr>\n",
       "    <tr>\n",
       "      <th>6168677</th>\n",
       "      <td>557</td>\n",
       "      <td>TRANSFER</td>\n",
       "      <td>643052.88</td>\n",
       "      <td>643052.88</td>\n",
       "      <td>0.0</td>\n",
       "      <td>0.00</td>\n",
       "      <td>0.00</td>\n",
       "      <td>0</td>\n",
       "      <td>1</td>\n",
       "      <td>1</td>\n",
       "      <td>1</td>\n",
       "      <td>0.0</td>\n",
       "    </tr>\n",
       "    <tr>\n",
       "      <th>5462542</th>\n",
       "      <td>379</td>\n",
       "      <td>TRANSFER</td>\n",
       "      <td>17216.14</td>\n",
       "      <td>17216.14</td>\n",
       "      <td>0.0</td>\n",
       "      <td>0.00</td>\n",
       "      <td>0.00</td>\n",
       "      <td>0</td>\n",
       "      <td>1</td>\n",
       "      <td>1</td>\n",
       "      <td>1</td>\n",
       "      <td>0.0</td>\n",
       "    </tr>\n",
       "  </tbody>\n",
       "</table>\n",
       "<p>4828 rows × 12 columns</p>\n",
       "</div>"
      ],
      "text/plain": [
       "         step      type      amount  oldbalanceorg  newbalanceorig  \\\n",
       "3188081   240  TRANSFER   248962.83      248962.83             0.0   \n",
       "6170520   563  CASH_OUT    96989.06       96989.06             0.0   \n",
       "2116097   183  TRANSFER  4354175.33     4354175.33             0.0   \n",
       "4023010   299  CASH_OUT  1158358.08     1158358.08             0.0   \n",
       "6050772   493  TRANSFER   605108.36      605108.36             0.0   \n",
       "...       ...       ...         ...            ...             ...   \n",
       "6027402   470  TRANSFER   120843.94      120843.94             0.0   \n",
       "5188051   367  CASH_OUT    48774.46       48774.46             0.0   \n",
       "6272956   626  TRANSFER    55740.39       55740.39             0.0   \n",
       "6168677   557  TRANSFER   643052.88      643052.88             0.0   \n",
       "5462542   379  TRANSFER    17216.14       17216.14             0.0   \n",
       "\n",
       "         oldbalancedest  newbalancedest  isflaggedfraud  is_fraud  isfraud  \\\n",
       "3188081            0.00            0.00               0         1        1   \n",
       "6170520      1112486.16      1209475.22               0         1        1   \n",
       "2116097            0.00            0.00               0         1        1   \n",
       "4023010            0.00      1158358.08               0         1        1   \n",
       "6050772            0.00            0.00               0         1        1   \n",
       "...                 ...             ...             ...       ...      ...   \n",
       "6027402            0.00            0.00               0         1        1   \n",
       "5188051            0.00        48774.46               0         1        1   \n",
       "6272956            0.00            0.00               0         1        1   \n",
       "6168677            0.00            0.00               0         1        1   \n",
       "5462542            0.00            0.00               0         1        1   \n",
       "\n",
       "         flag1  orgdelta  \n",
       "3188081      1       0.0  \n",
       "6170520      0       0.0  \n",
       "2116097      1       0.0  \n",
       "4023010      1       0.0  \n",
       "6050772      1       0.0  \n",
       "...        ...       ...  \n",
       "6027402      1       0.0  \n",
       "5188051      1       0.0  \n",
       "6272956      1       0.0  \n",
       "6168677      1       0.0  \n",
       "5462542      1       0.0  \n",
       "\n",
       "[4828 rows x 12 columns]"
      ]
     },
     "execution_count": 154,
     "metadata": {},
     "output_type": "execute_result"
    }
   ],
   "source": [
    "mask = df_train['orgdelta'] == 0\n",
    "mask1 = df_train['is_fraud'] == 1\n",
    "df_train[mask & mask1]"
   ]
  },
  {
   "cell_type": "code",
   "execution_count": 295,
   "id": "233d0c15",
   "metadata": {},
   "outputs": [
    {
     "data": {
      "text/plain": [
       "1    79\n",
       "Name: isfraud, dtype: int64"
      ]
     },
     "execution_count": 295,
     "metadata": {},
     "output_type": "execute_result"
    }
   ],
   "source": [
    "mask2 = df_train['amount'] == 10_000_000\n",
    "mask3 = df_train['amount'] < df_train['oldbalanceorg']\n",
    "df_train[mask2 & mask3]['isfraud'].value_counts()"
   ]
  },
  {
   "cell_type": "markdown",
   "id": "6e5ff36a",
   "metadata": {},
   "source": [
    "1. all transactions that are exactly $10,000,000 and if the account has sufficient funds it'll be flagged as fraudulent"
   ]
  },
  {
   "cell_type": "code",
   "execution_count": 155,
   "id": "ce13a0ec",
   "metadata": {},
   "outputs": [
    {
     "data": {
      "text/plain": [
       "4928"
      ]
     },
     "execution_count": 155,
     "metadata": {},
     "output_type": "execute_result"
    }
   ],
   "source": [
    "df_train['is_fraud'].sum()"
   ]
  },
  {
   "cell_type": "code",
   "execution_count": 158,
   "id": "909f4e4c",
   "metadata": {},
   "outputs": [],
   "source": [
    "import numpy as np"
   ]
  },
  {
   "cell_type": "code",
   "execution_count": 163,
   "id": "b04b6624",
   "metadata": {},
   "outputs": [],
   "source": [
    "def flag2_function(df):\n",
    "    df['orgdelta'] = df['amount'] - df['oldbalanceorg']\n",
    "    x = df['orgdelta']\n",
    "    condlist = [x==0 , x!=0]\n",
    "    choicelist = [1,0]\n",
    "    df['flag2'] = np.select(condlist,choicelist)\n",
    "    return df"
   ]
  },
  {
   "cell_type": "code",
   "execution_count": 265,
   "id": "67cf651b",
   "metadata": {},
   "outputs": [],
   "source": [
    "def flag3_function(df):\n",
    "    df['flag3'] = (df['amount'] < df['oldbalanceorg']) & (df['amount'] == 10_000_000)\n",
    "    df['flag3'].astype('int').sum()\n",
    "    return df"
   ]
  },
  {
   "cell_type": "code",
   "execution_count": 266,
   "id": "167fe51c",
   "metadata": {},
   "outputs": [],
   "source": [
    "df_train = flag1_function(df_train)\n",
    "df_val = flag1_function(df_val)\n",
    "df_test = flag1_function(df_test)\n",
    "\n",
    "df_train = flag2_function(df_train)\n",
    "df_val = flag2_function(df_val)\n",
    "df_test = flag2_function(df_test)\n",
    "\n",
    "df_train = flag3_function(df_train)\n",
    "df_val = flag3_function(df_val)\n",
    "df_test = flag3_function(df_test)"
   ]
  },
  {
   "cell_type": "markdown",
   "id": "3f227440",
   "metadata": {},
   "source": [
    "### Model 2"
   ]
  },
  {
   "cell_type": "code",
   "execution_count": 174,
   "id": "2d5b68c4",
   "metadata": {},
   "outputs": [],
   "source": [
    "def column_selector(df,x_columns,y_column):\n",
    "    return df[x_columns] , df[y_column]"
   ]
  },
  {
   "cell_type": "code",
   "execution_count": 176,
   "id": "9d56fd06",
   "metadata": {},
   "outputs": [
    {
     "data": {
      "text/plain": [
       "Index(['step', 'type', 'amount', 'oldbalanceorg', 'newbalanceorig',\n",
       "       'oldbalancedest', 'newbalancedest', 'isflaggedfraud', 'is_fraud',\n",
       "       'isfraud', 'flag1', 'orgdelta', 'flag2'],\n",
       "      dtype='object')"
      ]
     },
     "execution_count": 176,
     "metadata": {},
     "output_type": "execute_result"
    }
   ],
   "source": [
    "df_train.columns"
   ]
  },
  {
   "cell_type": "code",
   "execution_count": 267,
   "id": "2dbaeaee",
   "metadata": {},
   "outputs": [],
   "source": [
    "X_columns = ['flag2','flag3']"
   ]
  },
  {
   "cell_type": "code",
   "execution_count": 268,
   "id": "18af1c6f",
   "metadata": {},
   "outputs": [],
   "source": [
    "X_train , y_train = column_selector(df_train , X_columns , 'isfraud')\n",
    "X_val , y_val = column_selector(df_val , X_columns , 'isfraud')\n",
    "X_test , y_test = column_selector(df_test , X_columns , 'isfraud')"
   ]
  },
  {
   "cell_type": "code",
   "execution_count": 269,
   "id": "df436664",
   "metadata": {},
   "outputs": [
    {
     "data": {
      "text/plain": [
       "Pipeline(steps=[('logisticregression',\n",
       "                 LogisticRegression(class_weight='balanced', max_iter=1000,\n",
       "                                    solver='saga', tol=0.001))])"
      ]
     },
     "execution_count": 269,
     "metadata": {},
     "output_type": "execute_result"
    }
   ],
   "source": [
    "ct = make_column_transformer((OneHotEncoder(),make_column_selector(dtype_include = object)))\n",
    "clf = LogisticRegression(class_weight = 'balanced' , solver = 'saga' , tol = 1e-3 , max_iter = 1000)\n",
    "pipeline = make_pipeline(clf)\n",
    "pipeline.fit(X_train,y_train)"
   ]
  },
  {
   "cell_type": "code",
   "execution_count": 270,
   "id": "8db714e6",
   "metadata": {},
   "outputs": [],
   "source": [
    "from sklearn.metrics import classification_report"
   ]
  },
  {
   "cell_type": "code",
   "execution_count": 271,
   "id": "3d61b3af",
   "metadata": {},
   "outputs": [
    {
     "data": {
      "text/html": [
       "<div>\n",
       "<style scoped>\n",
       "    .dataframe tbody tr th:only-of-type {\n",
       "        vertical-align: middle;\n",
       "    }\n",
       "\n",
       "    .dataframe tbody tr th {\n",
       "        vertical-align: top;\n",
       "    }\n",
       "\n",
       "    .dataframe thead th {\n",
       "        text-align: right;\n",
       "    }\n",
       "</style>\n",
       "<table border=\"1\" class=\"dataframe\">\n",
       "  <thead>\n",
       "    <tr style=\"text-align: right;\">\n",
       "      <th></th>\n",
       "      <th>0</th>\n",
       "      <th>1</th>\n",
       "      <th>accuracy</th>\n",
       "      <th>macro avg</th>\n",
       "      <th>weighted avg</th>\n",
       "    </tr>\n",
       "  </thead>\n",
       "  <tbody>\n",
       "    <tr>\n",
       "      <th>precision</th>\n",
       "      <td>1.000000e+00</td>\n",
       "      <td>0.995739</td>\n",
       "      <td>0.999994</td>\n",
       "      <td>9.978693e-01</td>\n",
       "      <td>9.999945e-01</td>\n",
       "    </tr>\n",
       "    <tr>\n",
       "      <th>recall</th>\n",
       "      <td>9.999945e-01</td>\n",
       "      <td>1.000000</td>\n",
       "      <td>0.999994</td>\n",
       "      <td>9.999972e-01</td>\n",
       "      <td>9.999945e-01</td>\n",
       "    </tr>\n",
       "    <tr>\n",
       "      <th>f1-score</th>\n",
       "      <td>9.999972e-01</td>\n",
       "      <td>0.997865</td>\n",
       "      <td>0.999994</td>\n",
       "      <td>9.989310e-01</td>\n",
       "      <td>9.999945e-01</td>\n",
       "    </tr>\n",
       "    <tr>\n",
       "      <th>support</th>\n",
       "      <td>3.812665e+06</td>\n",
       "      <td>4907.000000</td>\n",
       "      <td>0.999994</td>\n",
       "      <td>3.817572e+06</td>\n",
       "      <td>3.817572e+06</td>\n",
       "    </tr>\n",
       "  </tbody>\n",
       "</table>\n",
       "</div>"
      ],
      "text/plain": [
       "                      0            1  accuracy     macro avg  weighted avg\n",
       "precision  1.000000e+00     0.995739  0.999994  9.978693e-01  9.999945e-01\n",
       "recall     9.999945e-01     1.000000  0.999994  9.999972e-01  9.999945e-01\n",
       "f1-score   9.999972e-01     0.997865  0.999994  9.989310e-01  9.999945e-01\n",
       "support    3.812665e+06  4907.000000  0.999994  3.817572e+06  3.817572e+06"
      ]
     },
     "execution_count": 271,
     "metadata": {},
     "output_type": "execute_result"
    }
   ],
   "source": [
    "pd.DataFrame(classification_report(pipeline.predict(X_train),y_train , output_dict = True))"
   ]
  },
  {
   "cell_type": "code",
   "execution_count": 272,
   "id": "28cf0d4e",
   "metadata": {},
   "outputs": [],
   "source": [
    "def get_classification_report(pipeline,X,y):\n",
    "    y_preds = pipeline.predict(X)\n",
    "    return pd.DataFrame(classification_report(pipeline.predict(X_train),y_train , output_dict = True)) , y_preds"
   ]
  },
  {
   "cell_type": "code",
   "execution_count": 273,
   "id": "6fd61cb8",
   "metadata": {},
   "outputs": [],
   "source": [
    "train_report , y_preds = get_classification_report(pipeline,X_train,y_train)"
   ]
  },
  {
   "cell_type": "code",
   "execution_count": 274,
   "id": "d08d7ef6",
   "metadata": {},
   "outputs": [],
   "source": [
    "val_report , y_val_preds = get_classification_report(pipeline,X_val,y_val)\n",
    "test_report , y_test_preds = get_classification_report(pipeline,X_test,y_test)"
   ]
  },
  {
   "cell_type": "code",
   "execution_count": 275,
   "id": "d87a81c0",
   "metadata": {},
   "outputs": [
    {
     "data": {
      "text/html": [
       "<div>\n",
       "<style scoped>\n",
       "    .dataframe tbody tr th:only-of-type {\n",
       "        vertical-align: middle;\n",
       "    }\n",
       "\n",
       "    .dataframe tbody tr th {\n",
       "        vertical-align: top;\n",
       "    }\n",
       "\n",
       "    .dataframe thead th {\n",
       "        text-align: right;\n",
       "    }\n",
       "</style>\n",
       "<table border=\"1\" class=\"dataframe\">\n",
       "  <thead>\n",
       "    <tr style=\"text-align: right;\">\n",
       "      <th></th>\n",
       "      <th>0</th>\n",
       "      <th>1</th>\n",
       "      <th>accuracy</th>\n",
       "      <th>macro avg</th>\n",
       "      <th>weighted avg</th>\n",
       "    </tr>\n",
       "  </thead>\n",
       "  <tbody>\n",
       "    <tr>\n",
       "      <th>precision</th>\n",
       "      <td>1.000000e+00</td>\n",
       "      <td>0.995739</td>\n",
       "      <td>0.999994</td>\n",
       "      <td>9.978693e-01</td>\n",
       "      <td>9.999945e-01</td>\n",
       "    </tr>\n",
       "    <tr>\n",
       "      <th>recall</th>\n",
       "      <td>9.999945e-01</td>\n",
       "      <td>1.000000</td>\n",
       "      <td>0.999994</td>\n",
       "      <td>9.999972e-01</td>\n",
       "      <td>9.999945e-01</td>\n",
       "    </tr>\n",
       "    <tr>\n",
       "      <th>f1-score</th>\n",
       "      <td>9.999972e-01</td>\n",
       "      <td>0.997865</td>\n",
       "      <td>0.999994</td>\n",
       "      <td>9.989310e-01</td>\n",
       "      <td>9.999945e-01</td>\n",
       "    </tr>\n",
       "    <tr>\n",
       "      <th>support</th>\n",
       "      <td>3.812665e+06</td>\n",
       "      <td>4907.000000</td>\n",
       "      <td>0.999994</td>\n",
       "      <td>3.817572e+06</td>\n",
       "      <td>3.817572e+06</td>\n",
       "    </tr>\n",
       "  </tbody>\n",
       "</table>\n",
       "</div>"
      ],
      "text/plain": [
       "                      0            1  accuracy     macro avg  weighted avg\n",
       "precision  1.000000e+00     0.995739  0.999994  9.978693e-01  9.999945e-01\n",
       "recall     9.999945e-01     1.000000  0.999994  9.999972e-01  9.999945e-01\n",
       "f1-score   9.999972e-01     0.997865  0.999994  9.989310e-01  9.999945e-01\n",
       "support    3.812665e+06  4907.000000  0.999994  3.817572e+06  3.817572e+06"
      ]
     },
     "execution_count": 275,
     "metadata": {},
     "output_type": "execute_result"
    }
   ],
   "source": [
    "train_report"
   ]
  },
  {
   "cell_type": "code",
   "execution_count": 276,
   "id": "7bfb3c90",
   "metadata": {},
   "outputs": [
    {
     "data": {
      "text/plain": [
       "<sklearn.metrics._plot.confusion_matrix.ConfusionMatrixDisplay at 0x1da8a079e20>"
      ]
     },
     "execution_count": 276,
     "metadata": {},
     "output_type": "execute_result"
    },
    {
     "data": {
      "image/png": "[encoded data removed]",
      "text/plain": [
       "<Figure size 432x288 with 2 Axes>"
      ]
     },
     "metadata": {
      "needs_background": "light"
     },
     "output_type": "display_data"
    }
   ],
   "source": [
    "ConfusionMatrixDisplay(confusion_matrix(y_train,y_preds)).plot()"
   ]
  },
  {
   "cell_type": "code",
   "execution_count": 277,
   "id": "32eae72b",
   "metadata": {},
   "outputs": [
    {
     "data": {
      "text/plain": [
       "0.9999937132816356"
      ]
     },
     "execution_count": 277,
     "metadata": {},
     "output_type": "execute_result"
    }
   ],
   "source": [
    "pipeline.score(X_test,y_test)"
   ]
  },
  {
   "cell_type": "code",
   "execution_count": 278,
   "id": "caef0a72",
   "metadata": {},
   "outputs": [
    {
     "data": {
      "text/html": [
       "<div>\n",
       "<style scoped>\n",
       "    .dataframe tbody tr th:only-of-type {\n",
       "        vertical-align: middle;\n",
       "    }\n",
       "\n",
       "    .dataframe tbody tr th {\n",
       "        vertical-align: top;\n",
       "    }\n",
       "\n",
       "    .dataframe thead th {\n",
       "        text-align: right;\n",
       "    }\n",
       "</style>\n",
       "<table border=\"1\" class=\"dataframe\">\n",
       "  <thead>\n",
       "    <tr style=\"text-align: right;\">\n",
       "      <th></th>\n",
       "      <th>0</th>\n",
       "      <th>1</th>\n",
       "      <th>accuracy</th>\n",
       "      <th>macro avg</th>\n",
       "      <th>weighted avg</th>\n",
       "    </tr>\n",
       "  </thead>\n",
       "  <tbody>\n",
       "    <tr>\n",
       "      <th>precision</th>\n",
       "      <td>1.000000e+00</td>\n",
       "      <td>0.995739</td>\n",
       "      <td>0.999994</td>\n",
       "      <td>9.978693e-01</td>\n",
       "      <td>9.999945e-01</td>\n",
       "    </tr>\n",
       "    <tr>\n",
       "      <th>recall</th>\n",
       "      <td>9.999945e-01</td>\n",
       "      <td>1.000000</td>\n",
       "      <td>0.999994</td>\n",
       "      <td>9.999972e-01</td>\n",
       "      <td>9.999945e-01</td>\n",
       "    </tr>\n",
       "    <tr>\n",
       "      <th>f1-score</th>\n",
       "      <td>9.999972e-01</td>\n",
       "      <td>0.997865</td>\n",
       "      <td>0.999994</td>\n",
       "      <td>9.989310e-01</td>\n",
       "      <td>9.999945e-01</td>\n",
       "    </tr>\n",
       "    <tr>\n",
       "      <th>support</th>\n",
       "      <td>3.812665e+06</td>\n",
       "      <td>4907.000000</td>\n",
       "      <td>0.999994</td>\n",
       "      <td>3.817572e+06</td>\n",
       "      <td>3.817572e+06</td>\n",
       "    </tr>\n",
       "  </tbody>\n",
       "</table>\n",
       "</div>"
      ],
      "text/plain": [
       "                      0            1  accuracy     macro avg  weighted avg\n",
       "precision  1.000000e+00     0.995739  0.999994  9.978693e-01  9.999945e-01\n",
       "recall     9.999945e-01     1.000000  0.999994  9.999972e-01  9.999945e-01\n",
       "f1-score   9.999972e-01     0.997865  0.999994  9.989310e-01  9.999945e-01\n",
       "support    3.812665e+06  4907.000000  0.999994  3.817572e+06  3.817572e+06"
      ]
     },
     "execution_count": 278,
     "metadata": {},
     "output_type": "execute_result"
    }
   ],
   "source": [
    "val_report"
   ]
  },
  {
   "cell_type": "code",
   "execution_count": 279,
   "id": "2d468fa8",
   "metadata": {},
   "outputs": [
    {
     "data": {
      "text/plain": [
       "<sklearn.metrics._plot.confusion_matrix.ConfusionMatrixDisplay at 0x1da8a309340>"
      ]
     },
     "execution_count": 279,
     "metadata": {},
     "output_type": "execute_result"
    },
    {
     "data": {
      "image/png": "[encoded data removed]",
      "text/plain": [
       "<Figure size 432x288 with 2 Axes>"
      ]
     },
     "metadata": {
      "needs_background": "light"
     },
     "output_type": "display_data"
    }
   ],
   "source": [
    "ConfusionMatrixDisplay(confusion_matrix(y_val,y_val_preds)).plot()"
   ]
  },
  {
   "cell_type": "code",
   "execution_count": 280,
   "id": "ef22d877",
   "metadata": {},
   "outputs": [
    {
     "data": {
      "text/html": [
       "<div>\n",
       "<style scoped>\n",
       "    .dataframe tbody tr th:only-of-type {\n",
       "        vertical-align: middle;\n",
       "    }\n",
       "\n",
       "    .dataframe tbody tr th {\n",
       "        vertical-align: top;\n",
       "    }\n",
       "\n",
       "    .dataframe thead th {\n",
       "        text-align: right;\n",
       "    }\n",
       "</style>\n",
       "<table border=\"1\" class=\"dataframe\">\n",
       "  <thead>\n",
       "    <tr style=\"text-align: right;\">\n",
       "      <th></th>\n",
       "      <th>0</th>\n",
       "      <th>1</th>\n",
       "      <th>accuracy</th>\n",
       "      <th>macro avg</th>\n",
       "      <th>weighted avg</th>\n",
       "    </tr>\n",
       "  </thead>\n",
       "  <tbody>\n",
       "    <tr>\n",
       "      <th>precision</th>\n",
       "      <td>1.000000e+00</td>\n",
       "      <td>0.995739</td>\n",
       "      <td>0.999994</td>\n",
       "      <td>9.978693e-01</td>\n",
       "      <td>9.999945e-01</td>\n",
       "    </tr>\n",
       "    <tr>\n",
       "      <th>recall</th>\n",
       "      <td>9.999945e-01</td>\n",
       "      <td>1.000000</td>\n",
       "      <td>0.999994</td>\n",
       "      <td>9.999972e-01</td>\n",
       "      <td>9.999945e-01</td>\n",
       "    </tr>\n",
       "    <tr>\n",
       "      <th>f1-score</th>\n",
       "      <td>9.999972e-01</td>\n",
       "      <td>0.997865</td>\n",
       "      <td>0.999994</td>\n",
       "      <td>9.989310e-01</td>\n",
       "      <td>9.999945e-01</td>\n",
       "    </tr>\n",
       "    <tr>\n",
       "      <th>support</th>\n",
       "      <td>3.812665e+06</td>\n",
       "      <td>4907.000000</td>\n",
       "      <td>0.999994</td>\n",
       "      <td>3.817572e+06</td>\n",
       "      <td>3.817572e+06</td>\n",
       "    </tr>\n",
       "  </tbody>\n",
       "</table>\n",
       "</div>"
      ],
      "text/plain": [
       "                      0            1  accuracy     macro avg  weighted avg\n",
       "precision  1.000000e+00     0.995739  0.999994  9.978693e-01  9.999945e-01\n",
       "recall     9.999945e-01     1.000000  0.999994  9.999972e-01  9.999945e-01\n",
       "f1-score   9.999972e-01     0.997865  0.999994  9.989310e-01  9.999945e-01\n",
       "support    3.812665e+06  4907.000000  0.999994  3.817572e+06  3.817572e+06"
      ]
     },
     "execution_count": 280,
     "metadata": {},
     "output_type": "execute_result"
    }
   ],
   "source": [
    "test_report"
   ]
  },
  {
   "cell_type": "code",
   "execution_count": 281,
   "id": "16ecdda4",
   "metadata": {},
   "outputs": [
    {
     "data": {
      "text/plain": [
       "<sklearn.metrics._plot.confusion_matrix.ConfusionMatrixDisplay at 0x1da8a373be0>"
      ]
     },
     "execution_count": 281,
     "metadata": {},
     "output_type": "execute_result"
    },
    {
     "data": {
      "image/png": "[encoded data removed]",
      "text/plain": [
       "<Figure size 432x288 with 2 Axes>"
      ]
     },
     "metadata": {
      "needs_background": "light"
     },
     "output_type": "display_data"
    }
   ],
   "source": [
    "ConfusionMatrixDisplay(confusion_matrix(y_test,y_test_preds)).plot()"
   ]
  },
  {
   "cell_type": "code",
   "execution_count": 282,
   "id": "e30cf854",
   "metadata": {},
   "outputs": [],
   "source": [
    "mask = df_train['isfraud'] == 1\n",
    "mask2 = df_train['amount'] < df_train['oldbalanceorg']\n",
    "test = df_train[mask&mask2]"
   ]
  },
  {
   "cell_type": "code",
   "execution_count": 283,
   "id": "731f6723",
   "metadata": {},
   "outputs": [
    {
     "data": {
      "text/plain": [
       "10000000.00    79\n",
       "42062.82        1\n",
       "9585040.37      1\n",
       "399045.08       1\n",
       "Name: amount, dtype: int64"
      ]
     },
     "execution_count": 283,
     "metadata": {},
     "output_type": "execute_result"
    }
   ],
   "source": [
    "test['amount'].value_counts()"
   ]
  },
  {
   "cell_type": "code",
   "execution_count": null,
   "id": "ebf1eba6",
   "metadata": {},
   "outputs": [],
   "source": []
  }
 ],
 "metadata": {
  "kernelspec": {
   "display_name": "Python 3 (ipykernel)",
   "language": "python",
   "name": "python3"
  },
  "language_info": {
   "codemirror_mode": {
    "name": "ipython",
    "version": 3
   },
   "file_extension": ".py",
   "mimetype": "text/x-python",
   "name": "python",
   "nbconvert_exporter": "python",
   "pygments_lexer": "ipython3",
   "version": "3.8.13"
  }
 },
 "nbformat": 4,
 "nbformat_minor": 5
}
